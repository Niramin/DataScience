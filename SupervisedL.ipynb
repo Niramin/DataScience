{
 "cells": [
  {
   "cell_type": "code",
   "execution_count": 1,
   "metadata": {},
   "outputs": [],
   "source": [
    "import pickle\n",
    "from sklearn import neighbors\n",
    "from sklearn import datasets\n",
    "import numpy as np"
   ]
  },
  {
   "cell_type": "code",
   "execution_count": 2,
   "metadata": {},
   "outputs": [],
   "source": [
    "ofname=open(r\"C:\\Users\\Shashwat Ratna\\Desktop\\realshh\\Learn\\DataScience\\IntroductionToDataScience\\introduction-datascience-python-book-master\\files\\ch05\\dataset_small.pkl\",\"rb\")\n"
   ]
  },
  {
   "cell_type": "code",
   "execution_count": 3,
   "metadata": {},
   "outputs": [],
   "source": [
    "(x,y)=pickle.load(ofname,encoding=\"latin1\")"
   ]
  },
  {
   "cell_type": "code",
   "execution_count": 4,
   "metadata": {},
   "outputs": [
    {
     "data": {
      "text/plain": [
       "array([[ 3.6000e+03,  2.3750e+03,  7.6310e+01, ..., -1.0000e+00,\n",
       "        -1.0000e+00,  1.0000e+00],\n",
       "       [ 2.3000e+04,  2.3000e+04,  7.6789e+02, ..., -1.0000e+00,\n",
       "        -1.0000e+00,  1.0000e+00],\n",
       "       [ 7.0000e+03,  7.0000e+03,  2.2584e+02, ..., -1.0000e+00,\n",
       "        -1.0000e+00,  1.0000e+00],\n",
       "       ...,\n",
       "       [ 1.0000e+04,  1.0000e+04,  3.1111e+02, ..., -1.0000e+00,\n",
       "        -1.0000e+00,  1.0000e+00],\n",
       "       [ 3.5000e+03,  3.5000e+03,  1.1961e+02, ..., -1.0000e+00,\n",
       "        -1.0000e+00,  1.0000e+00],\n",
       "       [ 8.3250e+03,  8.3250e+03,  2.8248e+02, ..., -1.0000e+00,\n",
       "        -1.0000e+00,  1.0000e+00]])"
      ]
     },
     "execution_count": 4,
     "metadata": {},
     "output_type": "execute_result"
    }
   ],
   "source": [
    "x"
   ]
  },
  {
   "cell_type": "markdown",
   "metadata": {},
   "source": [
    "Building simple classifier"
   ]
  },
  {
   "cell_type": "code",
   "execution_count": 5,
   "metadata": {},
   "outputs": [
    {
     "name": "stdout",
     "output_type": "stream",
     "text": [
      "Predicted Value: -1.0 , Real Target: -1.0\n"
     ]
    }
   ],
   "source": [
    "#Create an instance of K-nearest neighbor classofier\n",
    "knn=neighbors.KNeighborsClassifier(n_neighbors=11)\n",
    "#Training the classofier\n",
    "knn.fit(x,y)\n",
    "#Compute the prediction according to the model\n",
    "yhat=knn.predict(x)\n",
    "print(\"Predicted Value:\",str(yhat[-2]),\", Real Target:\",str(y[-1]))\n"
   ]
  },
  {
   "cell_type": "code",
   "execution_count": 6,
   "metadata": {},
   "outputs": [
    {
     "data": {
      "text/plain": [
       "0.8316425120772947"
      ]
     },
     "execution_count": 6,
     "metadata": {},
     "output_type": "execute_result"
    }
   ],
   "source": [
    "#Measuring accuracy\n",
    "knn.score(x,y)"
   ]
  },
  {
   "cell_type": "code",
   "execution_count": 7,
   "metadata": {},
   "outputs": [
    {
     "name": "stdout",
     "output_type": "stream",
     "text": [
      "TP: 3370 , FP: 690\n",
      "FN: 7 , TN: 73\n"
     ]
    }
   ],
   "source": [
    "#Measuring Accuracy with the help of confusion matrix\n",
    "TP=np.sum(np.logical_and(yhat==-1,y==-1))\n",
    "TN = np.sum(np.logical_and(yhat==1,y==1))\n",
    "FP = np.sum(np.logical_and(yhat==-1,y==1))\n",
    "FN = np.sum(np.logical_and(yhat==1,y==-1))\n",
    "print('TP: '+ str(TP), ', FP: '+ str(FP))\n",
    "print('FN: '+ str(FN), ', TN: '+ str(TN))"
   ]
  },
  {
   "cell_type": "code",
   "execution_count": 8,
   "metadata": {},
   "outputs": [
    {
     "data": {
      "text/plain": [
       "array([[3370,  690],\n",
       "       [   7,   73]], dtype=int64)"
      ]
     },
     "execution_count": 8,
     "metadata": {},
     "output_type": "execute_result"
    }
   ],
   "source": [
    "from sklearn import metrics\n",
    "metrics.confusion_matrix(yhat,y)"
   ]
  },
  {
   "cell_type": "code",
   "execution_count": 9,
   "metadata": {},
   "outputs": [],
   "source": [
    "knn2=neighbors.KNeighborsClassifier(n_neighbors=1)\n",
    "knn2.fit(x,y)\n",
    "yhat2=knn2.predict(x)\n",
    "\n"
   ]
  },
  {
   "cell_type": "code",
   "execution_count": 10,
   "metadata": {},
   "outputs": [
    {
     "name": "stdout",
     "output_type": "stream",
     "text": [
      "Accuracy : 1.0\n"
     ]
    }
   ],
   "source": [
    "print(\"Accuracy :\",metrics.accuracy_score(y,yhat2))"
   ]
  },
  {
   "cell_type": "code",
   "execution_count": 11,
   "metadata": {},
   "outputs": [
    {
     "name": "stdout",
     "output_type": "stream",
     "text": [
      "Confusion Matrix :  [[3377    0]\n",
      " [   0  763]]\n"
     ]
    }
   ],
   "source": [
    "print(\"Confusion Matrix : \",metrics.confusion_matrix(y,yhat2))"
   ]
  },
  {
   "cell_type": "code",
   "execution_count": 12,
   "metadata": {},
   "outputs": [],
   "source": [
    "perm=np.random.permutation(y.size)\n",
    "PRC=0.7\n",
    "split_point=int(np.ceil(y.shape[0]*PRC))\n"
   ]
  },
  {
   "cell_type": "code",
   "execution_count": 13,
   "metadata": {},
   "outputs": [],
   "source": [
    "X_train=x[perm[:split_point].ravel(),:]\n",
    "y_train=y[perm[:split_point].ravel()]"
   ]
  },
  {
   "cell_type": "code",
   "execution_count": 14,
   "metadata": {},
   "outputs": [],
   "source": [
    "X_test=x[perm[split_point:].ravel(),:]\n",
    "y_test=y[perm[split_point:].ravel()]"
   ]
  },
  {
   "cell_type": "code",
   "execution_count": 15,
   "metadata": {},
   "outputs": [
    {
     "name": "stdout",
     "output_type": "stream",
     "text": [
      "Accuracy:  0.7463768115942029\n",
      "Confusion matrix:  [[859 164]\n",
      " [151  68]]\n"
     ]
    }
   ],
   "source": [
    "knnr=neighbors.KNeighborsClassifier(n_neighbors=1)\n",
    "knnr.fit(X_train,y_train)\n",
    "yhatr=knnr.predict(X_test)\n",
    "print(\"Accuracy: \",metrics.accuracy_score(yhatr,y_test))\n",
    "print(\"Confusion matrix: \",metrics.confusion_matrix(yhatr,y_test))"
   ]
  },
  {
   "cell_type": "code",
   "execution_count": 16,
   "metadata": {},
   "outputs": [],
   "source": [
    "from sklearn.model_selection import train_test_split\n",
    "PRC=0.3\n",
    "acc=np.zeros((10,))\n",
    "for i in range(10):\n",
    "    X_train,X_test,y_train,y_test=train_test_split(x,y,test_size=PRC)\n",
    "    knn=neighbors.KNeighborsClassifier(n_neighbors=1)\n",
    "    knn.fit(X_train,y_train)\n",
    "    yhat=knn.predict(X_test)\n",
    "    acc[i]=metrics.accuracy_score(yhat,y_test)\n",
    "\n"
   ]
  },
  {
   "cell_type": "code",
   "execution_count": 17,
   "metadata": {},
   "outputs": [
    {
     "name": "stdout",
     "output_type": "stream",
     "text": [
      "Accuracy: 0.7541867954911433\n"
     ]
    }
   ],
   "source": [
    "acc.shape=(1,10)\n",
    "print(\"Accuracy:\",np.mean(acc[0]))\n"
   ]
  },
  {
   "cell_type": "code",
   "execution_count": null,
   "metadata": {},
   "outputs": [],
   "source": [
    "from sklearn import tree\n",
    "from sklearn import svm\n",
    "\n",
    "PRC=0.1\n",
    "acc_r=np.zeros((10,4))\n",
    "for i in range(10):\n",
    "    X_train,X_test,y_train,y_test=train_test_split(x,y,test_size=PRC)\n",
    "    nn1=neighbors.KNeighborsClassifier(n_neighbors=1)\n",
    "    nn3=neighbors.KNeighborsClassifier(n_neighbors=3)\n",
    "    svc=svm.SVC()\n",
    "    dt=tree.DecisionTreeClassifier()\n",
    "\n",
    "    nn1.fit(X_train,y_train)\n",
    "    nn3.fit(X_train,y_train)\n",
    "    svc.fit(X_train,y_train)\n",
    "    dt.fit(X_train,y_train)\n",
    "\n",
    "    yhat_nn1=nn1.predict(X_test)\n",
    "    yhat_nn3=nn3.predict(X_test)\n",
    "    yhat_svc=svc.predict(X_test)\n",
    "    yhat_dt=dt.predict(X_test)\n",
    "\n",
    "    acc_r[i][0]=metrics.accuracy_score(yhat_nn1,y_test)\n",
    "    acc_r[i][1]=metrics.accuracy_score(yhat_nn3,y_test)\n",
    "    acc_r[i][2]=metrics.accuracy_score(yhat_svc,y_test)\n",
    "    acc_r[i][3]=metrics.accuracy_score(yhat_dt,y_test)\n",
    "\n",
    "    \n"
   ]
  }
 ],
 "metadata": {
  "interpreter": {
   "hash": "a154df81e3274ccdb8439b563f2dda1730f3366c0b91a311198452ad90c14d4f"
  },
  "kernelspec": {
   "display_name": "Python 3.8.2 32-bit",
   "language": "python",
   "name": "python3"
  },
  "language_info": {
   "codemirror_mode": {
    "name": "ipython",
    "version": 3
   },
   "file_extension": ".py",
   "mimetype": "text/x-python",
   "name": "python",
   "nbconvert_exporter": "python",
   "pygments_lexer": "ipython3",
   "version": "3.8.2"
  },
  "orig_nbformat": 4
 },
 "nbformat": 4,
 "nbformat_minor": 2
}
